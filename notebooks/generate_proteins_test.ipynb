{
 "cells": [
  {
   "cell_type": "code",
   "execution_count": 2,
   "metadata": {},
   "outputs": [],
   "source": [
    "from swissisoform.genome import GenomeHandler\n",
    "from swissisoform.alternative_isoforms import AlternativeIsoform\n",
    "from swissisoform.translation import TruncatedProteinGenerator"
   ]
  },
  {
   "cell_type": "code",
   "execution_count": 3,
   "metadata": {},
   "outputs": [],
   "source": [
    "genome = GenomeHandler(\n",
    "    \"../data/genome_data/hg38.fa\", \"../data/genome_data/hg38.ncbiRefSeq.gtf\"\n",
    ")\n",
    "\n",
    "alt_isoforms = AlternativeIsoform()\n",
    "alt_isoforms.load_bed(\n",
    "    \"../data/ribosome_profiling/RiboTISHV6_MD2025_AnnoToTruncation_exonintersect.bed\"\n",
    ")\n",
    "\n",
    "protein_generator = TruncatedProteinGenerator(\n",
    "    genome_handler=genome, alt_isoform_handler=alt_isoforms, output_dir=\"test/\"\n",
    ")"
   ]
  },
  {
   "cell_type": "code",
   "execution_count": 6,
   "metadata": {},
   "outputs": [
    {
     "name": "stdout",
     "output_type": "stream",
     "text": [
      "\n",
      "Generating amino acid sequences for deep learning dataset\n",
      "\n",
      "Processing gene 1/5: NAXE\n",
      "Note: Filtered out 1 transcript(s) on non-standard chromosomes\n",
      "Non-standard chromosomes: {'chr1_MU273335v1_fix'}\n",
      "Processing 1 transcripts for gene NAXE\n",
      "Found 1 alternative start/truncation sites for gene NAXE\n",
      "  Processing transcript NM_144772.3_2\n",
      "  Generated truncated protein for NM_144772.3_2 - trunc_156591805_156591957\n",
      "\n",
      "Processing gene 2/5: NTHL1\n",
      "Processing 4 transcripts for gene NTHL1\n",
      "Found 2 alternative start/truncation sites for gene NTHL1\n",
      "  Processing transcript XM_047434171.1\n",
      "  Generated truncated protein for XM_047434171.1 - trunc_2047709_2047845\n",
      "  Generated truncated protein for XM_047434171.1 - trunc_2046202_2046366\n",
      "  Processing transcript NM_002528.7\n",
      "  Generated truncated protein for NM_002528.7 - trunc_2047709_2047845\n",
      "  Generated truncated protein for NM_002528.7 - trunc_2046202_2046366\n",
      "  Processing transcript NM_001318193.2\n",
      "  Generated truncated protein for NM_001318193.2 - trunc_2047709_2047845\n",
      "  Generated truncated protein for NM_001318193.2 - trunc_2046202_2046366\n",
      "  Processing transcript NM_001318194.2\n",
      "  Generated truncated protein for NM_001318194.2 - trunc_2047709_2047845\n",
      "  Generated truncated protein for NM_001318194.2 - trunc_2046202_2046366\n",
      "\n",
      "Processing gene 3/5: GARS1\n",
      "Processing 2 transcripts for gene GARS1\n",
      "Found 1 alternative start/truncation sites for gene GARS1\n",
      "  Processing transcript NM_002047.4\n",
      "  Generated truncated protein for NM_002047.4 - trunc_30594922_30595011\n",
      "  Processing transcript NM_001316772.1\n",
      "  Generated truncated protein for NM_001316772.1 - trunc_30594922_30595011\n",
      "\n",
      "Processing gene 4/5: PNPO\n",
      "Processing 1 transcripts for gene PNPO\n",
      "Found 1 alternative start/truncation sites for gene PNPO\n",
      "  Processing transcript NM_018129.4\n",
      "  Generated truncated protein for NM_018129.4 - trunc_47941676_47941768\n",
      "\n",
      "Processing gene 5/5: GSR\n",
      "Processing 6 transcripts for gene GSR\n",
      "Found 1 alternative start/truncation sites for gene GSR\n",
      "  Processing transcript XM_047421728.1\n",
      "  Generated truncated protein for XM_047421728.1 - trunc_30727706_30727833\n",
      "  Processing transcript XM_047421727.1\n",
      "  Generated truncated protein for XM_047421727.1 - trunc_30727706_30727833\n",
      "  Processing transcript NM_000637.5\n",
      "  Generated truncated protein for NM_000637.5 - trunc_30727706_30727833\n",
      "  Processing transcript NM_001195103.3\n",
      "  Generated truncated protein for NM_001195103.3 - trunc_30727706_30727833\n",
      "  Processing transcript NM_001195102.3\n",
      "  Generated truncated protein for NM_001195102.3 - trunc_30727706_30727833\n",
      "  Processing transcript NM_001195104.3\n",
      "  Generated truncated protein for NM_001195104.3 - trunc_30727706_30727833\n",
      "Saved dataset FASTA to test/protein_sequence_dataset.fasta\n"
     ]
    }
   ],
   "source": [
    "gene_list = [\"NAXE\", \"NTHL1\", \"GARS1\", \"PNPO\", \"GSR\"]\n",
    "\n",
    "# Generate dataset\n",
    "print(\"\\nGenerating amino acid sequences for deep learning dataset\")\n",
    "dataset = protein_generator.create_protein_sequence_dataset(\n",
    "    gene_list=gene_list,\n",
    "    output_format=\"fasta\",\n",
    "    include_canonical=True,\n",
    "    min_length=0,\n",
    "    max_length=2000,\n",
    ")"
   ]
  }
 ],
 "metadata": {
  "kernelspec": {
   "display_name": "swissisoform",
   "language": "python",
   "name": "python3"
  },
  "language_info": {
   "codemirror_mode": {
    "name": "ipython",
    "version": 3
   },
   "file_extension": ".py",
   "mimetype": "text/x-python",
   "name": "python",
   "nbconvert_exporter": "python",
   "pygments_lexer": "ipython3",
   "version": "3.10.16"
  }
 },
 "nbformat": 4,
 "nbformat_minor": 2
}
