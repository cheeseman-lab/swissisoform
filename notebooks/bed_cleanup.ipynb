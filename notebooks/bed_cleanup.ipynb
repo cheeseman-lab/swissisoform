{
 "cells": [
  {
   "cell_type": "code",
   "execution_count": 1,
   "metadata": {},
   "outputs": [],
   "source": [
    "from swissisoform.alternative_isoforms import AlternativeIsoform\n",
    "from swissisoform.utils import cleanup_bed, update_gencode_gene_names"
   ]
  },
  {
   "cell_type": "markdown",
   "metadata": {},
   "source": [
    "### GTF cleanup"
   ]
  },
  {
   "cell_type": "code",
   "execution_count": 2,
   "metadata": {},
   "outputs": [
    {
     "name": "stdout",
     "output_type": "stream",
     "text": [
      "Creating gene ID to name mappings from reference GTF: ../data/genome_data/gencode.v47.annotation.gtf\n",
      "Extracted 57992 gene names from GENCODE GTF\n",
      "Extracted 78724 gene names from reference GTF\n",
      "Created 21316 gene name updates\n",
      "\n",
      "GTF Update Summary:\n",
      "  Total lines processed: 2579822\n",
      "  Genes processed: 58037\n",
      "  Genes with updated names: 21324\n",
      "  Total lines updated: 221358\n",
      "  Output saved to: ../data/genome_data/gencode.v25.annotation.ensembl_cleaned.gtf\n"
     ]
    },
    {
     "data": {
      "text/plain": [
       "{'total_lines': 2579822,\n",
       " 'updated_lines': 221358,\n",
       " 'genes_processed': 58037,\n",
       " 'genes_updated': 21324}"
      ]
     },
     "execution_count": 2,
     "metadata": {},
     "output_type": "execute_result"
    }
   ],
   "source": [
    "# Clean the GTF file using the current Ensembl gene names\n",
    "input_gtf = \"../data/genome_data/gencode.v25.annotation.gtf\"\n",
    "output_gtf = \"../data/genome_data/gencode.v25.annotation.ensembl_cleaned.gtf\"\n",
    "reference_gtf = \"../data/genome_data/gencode.v47.annotation.gtf\"\n",
    "\n",
    "update_gencode_gene_names(\n",
    "    input_gtf_path=input_gtf,\n",
    "    output_gtf_path=output_gtf,\n",
    "    reference_gtf_path=reference_gtf,\n",
    "    verbose=True,\n",
    ")"
   ]
  },
  {
   "cell_type": "markdown",
   "metadata": {},
   "source": [
    "### Full bed file"
   ]
  },
  {
   "cell_type": "code",
   "execution_count": 3,
   "metadata": {},
   "outputs": [],
   "source": [
    "input_bed = \"../data/ribosome_profiling/full_truncations_JL.bed\"\n",
    "output_bed = \"../data/ribosome_profiling/full_truncations_JL_cleaned.bed\""
   ]
  },
  {
   "cell_type": "code",
   "execution_count": 4,
   "metadata": {},
   "outputs": [
    {
     "name": "stdout",
     "output_type": "stream",
     "text": [
      "Extracting gene mapping from GTF: ../data/genome_data/gencode.v25.annotation.ensembl_cleaned.gtf\n",
      "Extracted 58037 unique gene ID to name mappings from GTF\n",
      "Retrieved 116029 gene name mappings\n",
      "\n",
      "Cleanup Summary:\n",
      "  Total entries: 4926\n",
      "  Invalid entries removed: 0\n",
      "  Duplicates removed: 38\n",
      "  Gene names updated: 154\n",
      "  Valid entries in final file: 4888\n"
     ]
    },
    {
     "data": {
      "text/plain": [
       "{'total': 4926,\n",
       " 'invalid_format': 0,\n",
       " 'invalid_ensembl': 0,\n",
       " 'duplicates': 38,\n",
       " 'updated': 154,\n",
       " 'valid': 4888}"
      ]
     },
     "execution_count": 4,
     "metadata": {},
     "output_type": "execute_result"
    }
   ],
   "source": [
    "cleanup_bed(input_bed, output_bed, gtf_path=output_gtf, verbose=True)"
   ]
  },
  {
   "cell_type": "code",
   "execution_count": 5,
   "metadata": {},
   "outputs": [],
   "source": [
    "alt_isoforms = AlternativeIsoform()\n",
    "alt_isoforms.load_bed(\"../data/ribosome_profiling/full_truncations_JL_cleaned.bed\")\n",
    "gene_list = alt_isoforms.get_gene_list()\n",
    "\n",
    "with open(\"../data/ribosome_profiling/gene_list.txt\", \"w\") as f:\n",
    "    for gene in gene_list:\n",
    "        f.write(gene + \"\\n\")"
   ]
  },
  {
   "cell_type": "markdown",
   "metadata": {},
   "source": [
    "### Reduced bed file"
   ]
  },
  {
   "cell_type": "code",
   "execution_count": 6,
   "metadata": {},
   "outputs": [],
   "source": [
    "input_bed = \"../data/ribosome_profiling/selected_truncations_JL.bed\"\n",
    "output_bed = \"../data/ribosome_profiling/selected_truncations_JL_cleaned.bed\""
   ]
  },
  {
   "cell_type": "code",
   "execution_count": 7,
   "metadata": {},
   "outputs": [
    {
     "name": "stdout",
     "output_type": "stream",
     "text": [
      "Extracting gene mapping from GTF: ../data/genome_data/gencode.v25.annotation.ensembl_cleaned.gtf\n",
      "Extracted 58037 unique gene ID to name mappings from GTF\n",
      "Retrieved 116029 gene name mappings\n",
      "\n",
      "Cleanup Summary:\n",
      "  Total entries: 26\n",
      "  Invalid entries removed: 0\n",
      "  Duplicates removed: 0\n",
      "  Gene names updated: 2\n",
      "  Valid entries in final file: 26\n"
     ]
    },
    {
     "data": {
      "text/plain": [
       "{'total': 26,\n",
       " 'invalid_format': 0,\n",
       " 'invalid_ensembl': 0,\n",
       " 'duplicates': 0,\n",
       " 'updated': 2,\n",
       " 'valid': 26}"
      ]
     },
     "execution_count": 7,
     "metadata": {},
     "output_type": "execute_result"
    }
   ],
   "source": [
    "cleanup_bed(input_bed, output_bed, gtf_path=output_gtf, verbose=True)"
   ]
  },
  {
   "cell_type": "code",
   "execution_count": 8,
   "metadata": {},
   "outputs": [],
   "source": [
    "alt_isoforms = AlternativeIsoform()\n",
    "alt_isoforms.load_bed(\"../data/ribosome_profiling/selected_truncations_JL_cleaned.bed\")\n",
    "gene_list = alt_isoforms.get_gene_list()\n",
    "\n",
    "with open(\"../data/ribosome_profiling/gene_list_reduced.txt\", \"w\") as f:\n",
    "    for gene in gene_list:\n",
    "        f.write(gene + \"\\n\")"
   ]
  }
 ],
 "metadata": {
  "kernelspec": {
   "display_name": "swissisoform",
   "language": "python",
   "name": "python3"
  },
  "language_info": {
   "codemirror_mode": {
    "name": "ipython",
    "version": 3
   },
   "file_extension": ".py",
   "mimetype": "text/x-python",
   "name": "python",
   "nbconvert_exporter": "python",
   "pygments_lexer": "ipython3",
   "version": "3.10.16"
  }
 },
 "nbformat": 4,
 "nbformat_minor": 2
}
