{
 "cells": [
  {
   "cell_type": "code",
   "execution_count": 3,
   "metadata": {},
   "outputs": [],
   "source": [
    "from swissisoform.alternative_isoforms import AlternativeIsoform\n",
    "from swissisoform.utils import (\n",
    "    cleanup_bed,\n",
    ")"
   ]
  },
  {
   "cell_type": "markdown",
   "metadata": {},
   "source": [
    "### Full bed file"
   ]
  },
  {
   "cell_type": "code",
   "execution_count": 6,
   "metadata": {},
   "outputs": [],
   "source": [
    "input_bed = \"../data/ribosome_profiling/full_truncations_JL.bed\"\n",
    "output_bed = \"../data/ribosome_profiling/full_truncations_JL_cleaned.bed\""
   ]
  },
  {
   "cell_type": "code",
   "execution_count": 7,
   "metadata": {},
   "outputs": [
    {
     "name": "stdout",
     "output_type": "stream",
     "text": [
      "Fetching Ensembl reference data...\n",
      "Retrieved 48379 mappings\n",
      "\n",
      "Cleanup Summary:\n",
      "  Total entries: 4926\n",
      "  Invalid entries removed: 4\n",
      "  Duplicates removed: 38\n",
      "  Gene names updated: 154\n",
      "  Valid entries in final file: 4884\n"
     ]
    },
    {
     "data": {
      "text/plain": [
       "{'total': 4926,\n",
       " 'invalid_format': 0,\n",
       " 'invalid_ensembl': 4,\n",
       " 'duplicates': 38,\n",
       " 'updated': 154,\n",
       " 'valid': 4884}"
      ]
     },
     "execution_count": 7,
     "metadata": {},
     "output_type": "execute_result"
    }
   ],
   "source": [
    "cleanup_bed(input_bed, output_bed, verbose=True)"
   ]
  },
  {
   "cell_type": "code",
   "execution_count": 9,
   "metadata": {},
   "outputs": [],
   "source": [
    "alt_isoforms = AlternativeIsoform()\n",
    "alt_isoforms.load_bed(\n",
    "    \"../data/ribosome_profiling/full_truncations_JL_cleaned.bed\"\n",
    ")\n",
    "gene_list = alt_isoforms.get_gene_list()\n",
    "\n",
    "with open(\"../data/ribosome_profiling/gene_list.txt\", \"w\") as f:\n",
    "    for gene in gene_list:\n",
    "        f.write(gene + \"\\n\")"
   ]
  },
  {
   "cell_type": "markdown",
   "metadata": {},
   "source": [
    "### Reduced bed file"
   ]
  },
  {
   "cell_type": "code",
   "execution_count": 4,
   "metadata": {},
   "outputs": [],
   "source": [
    "input_bed = \"../data/ribosome_profiling/selected_truncations_JL.bed\"\n",
    "output_bed = \"../data/ribosome_profiling/selected_truncations_JL_cleaned.bed\""
   ]
  },
  {
   "cell_type": "code",
   "execution_count": 5,
   "metadata": {},
   "outputs": [
    {
     "name": "stdout",
     "output_type": "stream",
     "text": [
      "Fetching Ensembl reference data...\n",
      "Retrieved 48379 mappings\n",
      "\n",
      "Cleanup Summary:\n",
      "  Total entries: 28\n",
      "  Invalid entries removed: 0\n",
      "  Duplicates removed: 0\n",
      "  Gene names updated: 2\n",
      "  Valid entries in final file: 28\n"
     ]
    },
    {
     "data": {
      "text/plain": [
       "{'total': 28,\n",
       " 'invalid_format': 0,\n",
       " 'invalid_ensembl': 0,\n",
       " 'duplicates': 0,\n",
       " 'updated': 2,\n",
       " 'valid': 28}"
      ]
     },
     "execution_count": 5,
     "metadata": {},
     "output_type": "execute_result"
    }
   ],
   "source": [
    "cleanup_bed(input_bed, output_bed, verbose=True)"
   ]
  },
  {
   "cell_type": "code",
   "execution_count": 6,
   "metadata": {},
   "outputs": [],
   "source": [
    "alt_isoforms = AlternativeIsoform()\n",
    "alt_isoforms.load_bed(\n",
    "    \"../data/ribosome_profiling/selected_truncations_JL_cleaned.bed\"\n",
    ")\n",
    "gene_list = alt_isoforms.get_gene_list()\n",
    "\n",
    "with open(\"../data/ribosome_profiling/gene_list_reduced.txt\", \"w\") as f:\n",
    "    for gene in gene_list:\n",
    "        f.write(gene + \"\\n\")"
   ]
  }
 ],
 "metadata": {
  "kernelspec": {
   "display_name": "swissisoform",
   "language": "python",
   "name": "python3"
  },
  "language_info": {
   "codemirror_mode": {
    "name": "ipython",
    "version": 3
   },
   "file_extension": ".py",
   "mimetype": "text/x-python",
   "name": "python",
   "nbconvert_exporter": "python",
   "pygments_lexer": "ipython3",
   "version": "3.10.16"
  }
 },
 "nbformat": 4,
 "nbformat_minor": 2
}
