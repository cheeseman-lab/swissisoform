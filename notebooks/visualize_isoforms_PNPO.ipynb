{
 "cells": [
  {
   "cell_type": "code",
   "execution_count": 7,
   "metadata": {},
   "outputs": [],
   "source": [
    "from swissisoform.genome import GenomeHandler\n",
    "from swissisoform.visualize import GenomeVisualizer\n",
    "from swissisoform.isoform import AlternativeIsoform\n",
    "from swissisoform.mutations import MutationHandler\n",
    "from swissisoform.utils import analyze_mutations\n",
    "from typing import Optional, List\n",
    "import pandas as pd\n",
    "import os"
   ]
  },
  {
   "cell_type": "code",
   "execution_count": 8,
   "metadata": {},
   "outputs": [],
   "source": [
    "genome = GenomeHandler(\n",
    "   '../data/genome_data/hg38.fa',\n",
    "   '../data/genome_data/hg38.ncbiRefSeq.gtf'\n",
    ")\n",
    "\n",
    "alt_isoforms = AlternativeIsoform()\n",
    "alt_isoforms.load_bed('../data/ribosome_profiling/RiboTISHV6_MD2025_AnnoToTruncation_exonintersect.bed')\n",
    "\n",
    "mutation_handler = MutationHandler()"
   ]
  },
  {
   "cell_type": "code",
   "execution_count": 9,
   "metadata": {},
   "outputs": [
    {
     "name": "stdout",
     "output_type": "stream",
     "text": [
      "Processing gene: PNPO\n",
      "Getting alternative features...\n",
      "Found 1 alternative features\n",
      "\n",
      "Alternative Features:\n",
      "    chromosome      source       feature_type     start       end  score  \\\n",
      "211      chr17  truncation  alternative_start  47941676  47941768      0   \n",
      "\n",
      "    strand frame            gene_id          transcript_id gene_name  \\\n",
      "211      +     .  ENSG00000108439.9  ENSG00000108439.9_alt      PNPO   \n",
      "\n",
      "    start_codon  \n",
      "211         AUG  \n"
     ]
    }
   ],
   "source": [
    "gene_name = \"PNPO\"\n",
    "print(f\"Processing gene: {gene_name}\")\n",
    "\n",
    "os.makedirs(f\"./{gene_name}\", exist_ok=True)\n",
    "\n",
    "# Get alternative isoform features\n",
    "print(\"Getting alternative features...\")\n",
    "alt_features = alt_isoforms.get_visualization_features(gene_name)\n",
    "\n",
    "if alt_features.empty:\n",
    "    print(\"No alternative features found\")\n",
    "else:\n",
    "    print(f\"Found {len(alt_features)} alternative features\")\n",
    "    print(\"\\nAlternative Features:\")\n",
    "    print(alt_features)"
   ]
  },
  {
   "cell_type": "code",
   "execution_count": 10,
   "metadata": {},
   "outputs": [
    {
     "name": "stdout",
     "output_type": "stream",
     "text": [
      "Getting transcript information...\n",
      "Found 1 transcripts\n",
      "\n",
      "Transcript Information:\n",
      "        transcript_id chromosome     start       end strand\n",
      "1052912   NM_018129.4      chr17  47941571  47949308      +\n"
     ]
    }
   ],
   "source": [
    "print(\"Getting transcript information...\")\n",
    "transcript_info = genome.get_transcript_ids(gene_name)\n",
    "\n",
    "if transcript_info.empty:\n",
    "    print(\"No transcript info found\")\n",
    "else:\n",
    "    print(f\"Found {len(transcript_info)} transcripts\")\n",
    "    print(\"\\nTranscript Information:\")\n",
    "    print(transcript_info)"
   ]
  },
  {
   "cell_type": "code",
   "execution_count": 11,
   "metadata": {},
   "outputs": [
    {
     "name": "stdout",
     "output_type": "stream",
     "text": [
      "Fetching mutations from sources: clinvar...\n",
      "Fetching mutations from sources: clinvar...\n"
     ]
    },
    {
     "name": "stderr",
     "output_type": "stream",
     "text": [
      "/lab/barcheese01/mdiberna/swissisoform/src/swissisoform/mutations.py:390: FutureWarning: errors='ignore' is deprecated and will raise in a future version. Use to_numeric without passing `errors` and catch exceptions explicitly instead\n",
      "  df[col] = pd.to_numeric(df[col], errors='ignore')\n"
     ]
    },
    {
     "name": "stdout",
     "output_type": "stream",
     "text": [
      "\n",
      "Analyzing mutations in alternative features:\n",
      "  ├─ Feature 212 (47941676-47941768): 29 mutations\n",
      "\n",
      "Total mutations in all features: 29\n",
      "Found 29 mutations in truncation regions\n",
      "\n",
      "Mutation Analysis:\n",
      "Impact types: {'missense variant': 15, 'synonymous variant': 12, 'frameshift variant': 2}\n",
      "Clinical significance: {'Uncertain significance': 13, 'Likely benign': 12, 'Likely pathogenic': 2, 'Conflicting classifications of pathogenicity': 1, 'Pathogenic': 1}\n",
      "Truncation regions: ['47941676-47941768']\n",
      "Fetching mutations from sources: clinvar...\n",
      "Fetching mutations from sources: clinvar...\n",
      "\n",
      "Analyzing mutations in alternative features:\n",
      "  ├─ Feature 212 (47941676-47941768): 29 mutations\n",
      "\n",
      "Total mutations in all features: 29\n",
      "Filtering for impact types by source:\n",
      "  - clinvar: missense variant, nonsense variant, frameshift variant\n",
      "Found 17 mutations in truncation regions\n",
      "\n",
      "Mutation Analysis:\n",
      "Impact types: {'missense variant': 15, 'frameshift variant': 2}\n",
      "Clinical significance: {'Uncertain significance': 13, 'Likely pathogenic': 2, 'Conflicting classifications of pathogenicity': 1, 'Pathogenic': 1}\n",
      "Truncation regions: ['47941676-47941768']\n"
     ]
    }
   ],
   "source": [
    "mutations_unfiltered = await analyze_mutations(\n",
    "    gene_name=gene_name, \n",
    "    mutation_handler=mutation_handler,\n",
    "    alt_features=alt_features, \n",
    "    sources=[\"clinvar\"],\n",
    ")\n",
    "\n",
    "impact_types = {\n",
    "    \"clinvar\": [\"missense variant\", \"nonsense variant\", \"frameshift variant\"],\n",
    "}\n",
    "\n",
    "mutations_filtered = await analyze_mutations(\n",
    "    gene_name=gene_name, \n",
    "    mutation_handler=mutation_handler,\n",
    "    alt_features=alt_features, \n",
    "    sources=[\"clinvar\"], \n",
    "    impact_types=impact_types,\n",
    ")\n"
   ]
  },
  {
   "cell_type": "code",
   "execution_count": 12,
   "metadata": {},
   "outputs": [
    {
     "name": "stdout",
     "output_type": "stream",
     "text": [
      "\n",
      "Visualizing transcript: NM_018129.4\n"
     ]
    }
   ],
   "source": [
    "visualizer = GenomeVisualizer(genome)\n",
    "\n",
    "# For each transcript, create visualizations\n",
    "for _, transcript in transcript_info.iterrows():\n",
    "    transcript_id = transcript['transcript_id']\n",
    "    print(f\"\\nVisualizing transcript: {transcript_id}\")\n",
    "    \n",
    "    # Define the directory where plots will be saved\n",
    "    output_dir = f\"./{gene_name}/\"  # Assuming you already created this directory\n",
    "    \n",
    "    # Create visualization with unfiltered mutations\n",
    "    if mutations_unfiltered is not None:\n",
    "        visualizer.visualize_transcript(\n",
    "            gene_name=gene_name,\n",
    "            transcript_id=transcript_id,\n",
    "            alt_features=alt_features,\n",
    "            mutations_df=mutations_unfiltered,\n",
    "            output_file=f'{output_dir}{transcript_id}_unfiltered.png'\n",
    "        )\n",
    "    \n",
    "    # Create visualization with filtered mutations\n",
    "    if mutations_filtered is not None:\n",
    "        visualizer.visualize_transcript(\n",
    "            gene_name=gene_name,\n",
    "            transcript_id=transcript_id,\n",
    "            alt_features=alt_features,\n",
    "            mutations_df=mutations_filtered,\n",
    "            output_file=f'{output_dir}{transcript_id}_filtered.png'\n",
    "        )\n",
    "        \n",
    "        # Create zoomed view for filtered mutations\n",
    "        visualizer.visualize_transcript_zoomed(\n",
    "            gene_name=gene_name,\n",
    "            transcript_id=transcript_id,\n",
    "            alt_features=alt_features,\n",
    "            mutations_df=mutations_filtered,\n",
    "            output_file=f'{output_dir}{transcript_id}_filtered_zoom.png',\n",
    "            padding=100\n",
    "        )"
   ]
  }
 ],
 "metadata": {
  "kernelspec": {
   "display_name": "swissisoform",
   "language": "python",
   "name": "python3"
  },
  "language_info": {
   "codemirror_mode": {
    "name": "ipython",
    "version": 3
   },
   "file_extension": ".py",
   "mimetype": "text/x-python",
   "name": "python",
   "nbconvert_exporter": "python",
   "pygments_lexer": "ipython3",
   "version": "3.10.16"
  }
 },
 "nbformat": 4,
 "nbformat_minor": 2
}
