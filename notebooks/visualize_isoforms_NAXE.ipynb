{
 "cells": [
  {
   "cell_type": "code",
   "execution_count": 1,
   "metadata": {},
   "outputs": [],
   "source": [
    "from swissisoform.genome import GenomeHandler\n",
    "from swissisoform.visualize import GenomeVisualizer\n",
    "from swissisoform.isoform import AlternativeIsoform\n",
    "from swissisoform.mutations import MutationHandler\n",
    "from swissisoform.utils import analyze_mutations\n",
    "from typing import Optional, List\n",
    "import pandas as pd\n",
    "import os"
   ]
  },
  {
   "cell_type": "code",
   "execution_count": 2,
   "metadata": {},
   "outputs": [],
   "source": [
    "genome = GenomeHandler(\n",
    "    \"../data/genome_data/hg38.fa\", \"../data/genome_data/hg38.ncbiRefSeq.gtf\"\n",
    ")\n",
    "\n",
    "alt_isoforms = AlternativeIsoform()\n",
    "alt_isoforms.load_bed(\n",
    "    \"../data/ribosome_profiling/RiboTISHV6_MD2025_AnnoToTruncation_exonintersect.bed\"\n",
    ")\n",
    "\n",
    "mutation_handler = MutationHandler()"
   ]
  },
  {
   "cell_type": "code",
   "execution_count": 3,
   "metadata": {},
   "outputs": [
    {
     "name": "stdout",
     "output_type": "stream",
     "text": [
      "Processing gene: NAXE\n",
      "Getting alternative features...\n",
      "Found 1 alternative features\n",
      "\n",
      "Alternative Features:\n",
      "    chromosome      source       feature_type      start        end  score  \\\n",
      "309       chr1  truncation  alternative_start  156591805  156591957      0   \n",
      "\n",
      "    strand frame             gene_id           transcript_id gene_name  \\\n",
      "309      +     .  ENSG00000163382.11  ENSG00000163382.11_alt      NAXE   \n",
      "\n",
      "    start_codon  \n",
      "309         AUG  \n"
     ]
    }
   ],
   "source": [
    "gene_name = \"NAXE\"\n",
    "print(f\"Processing gene: {gene_name}\")\n",
    "\n",
    "os.makedirs(f\"./{gene_name}\", exist_ok=True)\n",
    "\n",
    "# Get alternative isoform features\n",
    "print(\"Getting alternative features...\")\n",
    "alt_features = alt_isoforms.get_visualization_features(gene_name)\n",
    "\n",
    "if alt_features.empty:\n",
    "    print(\"No alternative features found\")\n",
    "else:\n",
    "    print(f\"Found {len(alt_features)} alternative features\")\n",
    "    print(\"\\nAlternative Features:\")\n",
    "    print(alt_features)"
   ]
  },
  {
   "cell_type": "code",
   "execution_count": 4,
   "metadata": {},
   "outputs": [
    {
     "name": "stdout",
     "output_type": "stream",
     "text": [
      "Getting transcript information...\n",
      "Note: Filtered out 1 transcript(s) on non-standard chromosomes\n",
      "Non-standard chromosomes: {'chr1_MU273335v1_fix'}\n",
      "Found 1 transcripts\n",
      "\n",
      "Transcript Information:\n",
      "         transcript_id chromosome      start        end strand\n",
      "4571171  NM_144772.3_2       chr1  156591776  156594299      +\n"
     ]
    }
   ],
   "source": [
    "print(\"Getting transcript information...\")\n",
    "transcript_info = genome.get_transcript_ids(gene_name)\n",
    "\n",
    "if transcript_info.empty:\n",
    "    print(\"No transcript info found\")\n",
    "else:\n",
    "    print(f\"Found {len(transcript_info)} transcripts\")\n",
    "    print(\"\\nTranscript Information:\")\n",
    "    print(transcript_info)"
   ]
  },
  {
   "cell_type": "code",
   "execution_count": 5,
   "metadata": {},
   "outputs": [
    {
     "name": "stdout",
     "output_type": "stream",
     "text": [
      "Fetching mutations from sources: clinvar...\n",
      "Fetching mutations from sources: clinvar...\n"
     ]
    },
    {
     "name": "stderr",
     "output_type": "stream",
     "text": [
      "/lab/barcheese01/mdiberna/swissisoform/src/swissisoform/mutations.py:390: FutureWarning: errors='ignore' is deprecated and will raise in a future version. Use to_numeric without passing `errors` and catch exceptions explicitly instead\n",
      "  df[col] = pd.to_numeric(df[col], errors='ignore')\n"
     ]
    },
    {
     "name": "stdout",
     "output_type": "stream",
     "text": [
      "\n",
      "Analyzing mutations in alternative features:\n",
      "  ├─ Feature 310 (156591805-156591957): 17 mutations\n",
      "\n",
      "Total mutations in all features: 17\n",
      "Found 17 mutations in truncation regions\n",
      "\n",
      "Mutation Analysis:\n",
      "Impact types: {'missense variant': 11, 'synonymous variant': 3, 'nonsense variant': 2, 'inframe deletion': 1}\n",
      "Clinical significance: {'Uncertain significance': 10, 'Likely benign': 4, 'Benign': 1, 'Likely pathogenic': 1, 'Pathogenic': 1}\n",
      "Truncation regions: ['156591805-156591957']\n",
      "Fetching mutations from sources: clinvar...\n",
      "Fetching mutations from sources: clinvar...\n",
      "\n",
      "Analyzing mutations in alternative features:\n",
      "  ├─ Feature 310 (156591805-156591957): 17 mutations\n",
      "\n",
      "Total mutations in all features: 17\n",
      "Filtering for impact types by source:\n",
      "  - clinvar: missense variant, nonsense variant, frameshift variant\n",
      "Found 13 mutations in truncation regions\n",
      "\n",
      "Mutation Analysis:\n",
      "Impact types: {'missense variant': 11, 'nonsense variant': 2}\n",
      "Clinical significance: {'Uncertain significance': 9, 'Likely benign': 1, 'Benign': 1, 'Likely pathogenic': 1, 'Pathogenic': 1}\n",
      "Truncation regions: ['156591805-156591957']\n"
     ]
    }
   ],
   "source": [
    "mutations_unfiltered = await analyze_mutations(\n",
    "    gene_name=gene_name,\n",
    "    mutation_handler=mutation_handler,\n",
    "    alt_features=alt_features,\n",
    "    sources=[\"clinvar\"],\n",
    ")\n",
    "\n",
    "impact_types = {\n",
    "    \"clinvar\": [\"missense variant\", \"nonsense variant\", \"frameshift variant\"],\n",
    "}\n",
    "\n",
    "mutations_filtered = await analyze_mutations(\n",
    "    gene_name=gene_name,\n",
    "    mutation_handler=mutation_handler,\n",
    "    alt_features=alt_features,\n",
    "    sources=[\"clinvar\"],\n",
    "    impact_types=impact_types,\n",
    ")"
   ]
  },
  {
   "cell_type": "code",
   "execution_count": 6,
   "metadata": {},
   "outputs": [
    {
     "name": "stdout",
     "output_type": "stream",
     "text": [
      "\n",
      "Visualizing transcript: NM_144772.3_2\n"
     ]
    }
   ],
   "source": [
    "visualizer = GenomeVisualizer(genome)\n",
    "\n",
    "# For each transcript, create visualizations\n",
    "for _, transcript in transcript_info.iterrows():\n",
    "    transcript_id = transcript[\"transcript_id\"]\n",
    "    print(f\"\\nVisualizing transcript: {transcript_id}\")\n",
    "\n",
    "    # Define the directory where plots will be saved\n",
    "    output_dir = f\"./{gene_name}/\"  # Assuming you already created this directory\n",
    "\n",
    "    # Create visualization with unfiltered mutations\n",
    "    if mutations_unfiltered is not None:\n",
    "        visualizer.visualize_transcript(\n",
    "            gene_name=gene_name,\n",
    "            transcript_id=transcript_id,\n",
    "            alt_features=alt_features,\n",
    "            mutations_df=mutations_unfiltered,\n",
    "            output_file=f\"{output_dir}{transcript_id}_unfiltered.png\",\n",
    "        )\n",
    "\n",
    "    # Create visualization with filtered mutations\n",
    "    if mutations_filtered is not None:\n",
    "        visualizer.visualize_transcript(\n",
    "            gene_name=gene_name,\n",
    "            transcript_id=transcript_id,\n",
    "            alt_features=alt_features,\n",
    "            mutations_df=mutations_filtered,\n",
    "            output_file=f\"{output_dir}{transcript_id}_filtered.png\",\n",
    "        )\n",
    "\n",
    "        # Create zoomed view for filtered mutations\n",
    "        visualizer.visualize_transcript_zoomed(\n",
    "            gene_name=gene_name,\n",
    "            transcript_id=transcript_id,\n",
    "            alt_features=alt_features,\n",
    "            mutations_df=mutations_filtered,\n",
    "            output_file=f\"{output_dir}{transcript_id}_filtered_zoom.png\",\n",
    "            padding=100,\n",
    "        )"
   ]
  }
 ],
 "metadata": {
  "kernelspec": {
   "display_name": "swissisoform",
   "language": "python",
   "name": "python3"
  },
  "language_info": {
   "codemirror_mode": {
    "name": "ipython",
    "version": 3
   },
   "file_extension": ".py",
   "mimetype": "text/x-python",
   "name": "python",
   "nbconvert_exporter": "python",
   "pygments_lexer": "ipython3",
   "version": "3.10.16"
  }
 },
 "nbformat": 4,
 "nbformat_minor": 2
}
