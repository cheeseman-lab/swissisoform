{
 "cells": [
  {
   "cell_type": "code",
   "execution_count": 1,
   "metadata": {},
   "outputs": [],
   "source": [
    "from swissisoform.genome import GenomeHandler\n",
    "from swissisoform.visualize import GenomeVisualizer\n",
    "from swissisoform.alternative_isoforms import AlternativeIsoform\n",
    "from swissisoform.mutations import MutationHandler, analyze_mutations\n",
    "import os"
   ]
  },
  {
   "cell_type": "code",
   "execution_count": 2,
   "metadata": {},
   "outputs": [],
   "source": [
    "genome = GenomeHandler(\n",
    "    \"../data/genome_data/hg38.fa\", \"../data/genome_data/hg38.ncbiRefSeq.gtf\"\n",
    ")\n",
    "\n",
    "alt_isoforms = AlternativeIsoform()\n",
    "alt_isoforms.load_bed(\n",
    "    \"../data/ribosome_profiling/RiboTISHV6_MD2025_AnnoToTruncation_exonintersect.bed\"\n",
    ")\n",
    "\n",
    "mutation_handler = MutationHandler()"
   ]
  },
  {
   "cell_type": "code",
   "execution_count": 3,
   "metadata": {},
   "outputs": [
    {
     "name": "stdout",
     "output_type": "stream",
     "text": [
      "Processing gene: GSR\n",
      "Getting alternative features...\n",
      "Found 1 alternative features\n",
      "\n",
      "Alternative Features:\n",
      "    chromosome      source       feature_type     start       end  score  \\\n",
      "284       chr8  truncation  alternative_start  30727706  30727833      0   \n",
      "\n",
      "    strand frame             gene_id           transcript_id gene_name  \\\n",
      "284      -     .  ENSG00000104687.12  ENSG00000104687.12_alt       GSR   \n",
      "\n",
      "    start_codon  \n",
      "284         AUG  \n"
     ]
    }
   ],
   "source": [
    "gene_name = \"GSR\"\n",
    "print(f\"Processing gene: {gene_name}\")\n",
    "\n",
    "os.makedirs(f\"./{gene_name}\", exist_ok=True)\n",
    "\n",
    "# Get alternative isoform features\n",
    "print(\"Getting alternative features...\")\n",
    "alt_features = alt_isoforms.get_visualization_features(gene_name)\n",
    "\n",
    "if alt_features.empty:\n",
    "    print(\"No alternative features found\")\n",
    "else:\n",
    "    print(f\"Found {len(alt_features)} alternative features\")\n",
    "    print(\"\\nAlternative Features:\")\n",
    "    print(alt_features)"
   ]
  },
  {
   "cell_type": "code",
   "execution_count": 4,
   "metadata": {},
   "outputs": [
    {
     "name": "stdout",
     "output_type": "stream",
     "text": [
      "Getting transcript information...\n",
      "Found 6 transcripts\n",
      "\n",
      "Transcript Information:\n",
      "          transcript_id chromosome     start       end strand\n",
      "2855439  XM_047421728.1       chr8  30678066  30708970      -\n",
      "2855466  XM_047421727.1       chr8  30678066  30727021      -\n",
      "2855497     NM_000637.5       chr8  30678066  30727846      -\n",
      "2855528  NM_001195103.3       chr8  30678066  30727846      -\n",
      "2855557  NM_001195102.3       chr8  30678066  30727846      -\n",
      "2855586  NM_001195104.3       chr8  30678066  30727846      -\n"
     ]
    }
   ],
   "source": [
    "print(\"Getting transcript information...\")\n",
    "transcript_info = genome.get_transcript_ids(gene_name)\n",
    "\n",
    "if transcript_info.empty:\n",
    "    print(\"No transcript info found\")\n",
    "else:\n",
    "    print(f\"Found {len(transcript_info)} transcripts\")\n",
    "    print(\"\\nTranscript Information:\")\n",
    "    print(transcript_info)"
   ]
  },
  {
   "cell_type": "code",
   "execution_count": 5,
   "metadata": {},
   "outputs": [
    {
     "name": "stdout",
     "output_type": "stream",
     "text": [
      "Fetching mutations from sources: clinvar...\n",
      "Fetching mutations from sources: clinvar...\n"
     ]
    },
    {
     "name": "stderr",
     "output_type": "stream",
     "text": [
      "/lab/barcheese01/mdiberna/swissisoform/src/swissisoform/mutations.py:390: FutureWarning: errors='ignore' is deprecated and will raise in a future version. Use to_numeric without passing `errors` and catch exceptions explicitly instead\n",
      "  df[col] = pd.to_numeric(df[col], errors='ignore')\n"
     ]
    },
    {
     "name": "stdout",
     "output_type": "stream",
     "text": [
      "\n",
      "Analyzing mutations in alternative features:\n",
      "  ├─ Feature 285 (30727706-30727833): 14 mutations\n",
      "\n",
      "Total mutations in all features: 14\n",
      "Found 14 mutations in truncation regions\n",
      "\n",
      "Mutation Analysis:\n",
      "Impact types: {'missense variant': 12, 'synonymous variant': 1, 'nonsense variant': 1}\n",
      "Clinical significance: {'Uncertain significance': 8, 'Benign': 3, 'Likely benign': 2, 'Conflicting classifications of pathogenicity': 1}\n",
      "Truncation regions: ['30727706-30727833']\n",
      "Fetching mutations from sources: clinvar...\n",
      "Fetching mutations from sources: clinvar...\n",
      "\n",
      "Analyzing mutations in alternative features:\n",
      "  ├─ Feature 285 (30727706-30727833): 14 mutations\n",
      "\n",
      "Total mutations in all features: 14\n",
      "Filtering for impact types by source:\n",
      "  - clinvar: missense variant, nonsense variant, frameshift variant\n",
      "Found 13 mutations in truncation regions\n",
      "\n",
      "Mutation Analysis:\n",
      "Impact types: {'missense variant': 12, 'nonsense variant': 1}\n",
      "Clinical significance: {'Uncertain significance': 8, 'Benign': 3, 'Conflicting classifications of pathogenicity': 1, 'Likely benign': 1}\n",
      "Truncation regions: ['30727706-30727833']\n"
     ]
    }
   ],
   "source": [
    "mutations_unfiltered = await analyze_mutations(\n",
    "    gene_name=gene_name,\n",
    "    mutation_handler=mutation_handler,\n",
    "    alt_features=alt_features,\n",
    "    sources=[\"clinvar\"],\n",
    ")\n",
    "\n",
    "impact_types = {\n",
    "    \"clinvar\": [\"missense variant\", \"nonsense variant\", \"frameshift variant\"],\n",
    "}\n",
    "\n",
    "mutations_filtered = await analyze_mutations(\n",
    "    gene_name=gene_name,\n",
    "    mutation_handler=mutation_handler,\n",
    "    alt_features=alt_features,\n",
    "    sources=[\"clinvar\"],\n",
    "    impact_types=impact_types,\n",
    ")"
   ]
  },
  {
   "cell_type": "code",
   "execution_count": 6,
   "metadata": {},
   "outputs": [
    {
     "name": "stdout",
     "output_type": "stream",
     "text": [
      "\n",
      "Visualizing transcript: XM_047421728.1\n",
      "\n",
      "Visualizing transcript: XM_047421727.1\n",
      "\n",
      "Visualizing transcript: NM_000637.5\n",
      "\n",
      "Visualizing transcript: NM_001195103.3\n",
      "\n",
      "Visualizing transcript: NM_001195102.3\n",
      "\n",
      "Visualizing transcript: NM_001195104.3\n"
     ]
    }
   ],
   "source": [
    "visualizer = GenomeVisualizer(genome)\n",
    "\n",
    "# For each transcript, create visualizations\n",
    "for _, transcript in transcript_info.iterrows():\n",
    "    transcript_id = transcript[\"transcript_id\"]\n",
    "    print(f\"\\nVisualizing transcript: {transcript_id}\")\n",
    "\n",
    "    # Define the directory where plots will be saved\n",
    "    output_dir = f\"./{gene_name}/\"  # Assuming you already created this directory\n",
    "\n",
    "    # Create visualization with unfiltered mutations\n",
    "    if mutations_unfiltered is not None:\n",
    "        visualizer.visualize_transcript(\n",
    "            gene_name=gene_name,\n",
    "            transcript_id=transcript_id,\n",
    "            alt_features=alt_features,\n",
    "            mutations_df=mutations_unfiltered,\n",
    "            output_file=f\"{output_dir}{transcript_id}_unfiltered.png\",\n",
    "        )\n",
    "\n",
    "    # Create visualization with filtered mutations\n",
    "    if mutations_filtered is not None:\n",
    "        visualizer.visualize_transcript(\n",
    "            gene_name=gene_name,\n",
    "            transcript_id=transcript_id,\n",
    "            alt_features=alt_features,\n",
    "            mutations_df=mutations_filtered,\n",
    "            output_file=f\"{output_dir}{transcript_id}_filtered.png\",\n",
    "        )\n",
    "\n",
    "        # Create zoomed view for filtered mutations\n",
    "        visualizer.visualize_transcript_zoomed(\n",
    "            gene_name=gene_name,\n",
    "            transcript_id=transcript_id,\n",
    "            alt_features=alt_features,\n",
    "            mutations_df=mutations_filtered,\n",
    "            output_file=f\"{output_dir}{transcript_id}_filtered_zoom.png\",\n",
    "            padding=100,\n",
    "        )"
   ]
  }
 ],
 "metadata": {
  "kernelspec": {
   "display_name": "swissisoform",
   "language": "python",
   "name": "python3"
  },
  "language_info": {
   "codemirror_mode": {
    "name": "ipython",
    "version": 3
   },
   "file_extension": ".py",
   "mimetype": "text/x-python",
   "name": "python",
   "nbconvert_exporter": "python",
   "pygments_lexer": "ipython3",
   "version": "3.10.16"
  }
 },
 "nbformat": 4,
 "nbformat_minor": 2
}
