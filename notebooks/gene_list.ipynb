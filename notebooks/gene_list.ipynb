{
 "cells": [
  {
   "cell_type": "code",
   "execution_count": 2,
   "metadata": {},
   "outputs": [],
   "source": [
    "from swissisoform.isoform import AlternativeIsoform"
   ]
  },
  {
   "cell_type": "code",
   "execution_count": 3,
   "metadata": {},
   "outputs": [],
   "source": [
    "# Initialize handlers\n",
    "alt_isoforms = AlternativeIsoform()\n",
    "\n",
    "# Load BED file\n",
    "alt_isoforms.load_bed('../data/ribosome_profiling/RiboTISHV6_Ly2024_AnnoToTruncation_exonintersect.bed')\n",
    "\n",
    "gene_list=alt_isoforms.get_gene_list()"
   ]
  },
  {
   "cell_type": "code",
   "execution_count": 5,
   "metadata": {},
   "outputs": [],
   "source": [
    "# Write gene_list to a txt file in the ribosome profiling directory\n",
    "with open('../data/ribosome_profiling/gene_list.txt', 'w') as f:\n",
    "    for gene in gene_list:\n",
    "        f.write(gene+'\\n')"
   ]
  }
 ],
 "metadata": {
  "kernelspec": {
   "display_name": "swissisoform",
   "language": "python",
   "name": "python3"
  },
  "language_info": {
   "codemirror_mode": {
    "name": "ipython",
    "version": 3
   },
   "file_extension": ".py",
   "mimetype": "text/x-python",
   "name": "python",
   "nbconvert_exporter": "python",
   "pygments_lexer": "ipython3",
   "version": "3.10.16"
  }
 },
 "nbformat": 4,
 "nbformat_minor": 2
}
