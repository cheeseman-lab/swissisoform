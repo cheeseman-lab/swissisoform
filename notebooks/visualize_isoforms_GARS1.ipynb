{
 "cells": [
  {
   "cell_type": "code",
   "execution_count": 1,
   "metadata": {},
   "outputs": [],
   "source": [
    "from swissisoform.genome import GenomeHandler\n",
    "from swissisoform.visualize import GenomeVisualizer\n",
    "from swissisoform.isoform import AlternativeIsoform\n",
    "from swissisoform.mutations import MutationHandler\n",
    "from swissisoform.utils import analyze_mutations\n",
    "from typing import Optional, List\n",
    "import pandas as pd\n",
    "import os"
   ]
  },
  {
   "cell_type": "code",
   "execution_count": 2,
   "metadata": {},
   "outputs": [],
   "source": [
    "genome = GenomeHandler(\n",
    "   '../data/genome_data/hg38.fa',\n",
    "   '../data/genome_data/hg38.ncbiRefSeq.gtf'\n",
    ")\n",
    "\n",
    "alt_isoforms = AlternativeIsoform()\n",
    "alt_isoforms.load_bed('../data/ribosome_profiling/RiboTISHV6_Ly2024_AnnoToTruncation_exonintersect.bed')\n",
    "\n",
    "mutation_handler = MutationHandler()"
   ]
  },
  {
   "cell_type": "code",
   "execution_count": 3,
   "metadata": {},
   "outputs": [
    {
     "name": "stdout",
     "output_type": "stream",
     "text": [
      "Processing gene: GARS1\n",
      "Getting alternative features...\n",
      "No alternative features found\n"
     ]
    }
   ],
   "source": [
    "gene_name = \"GARS1\"\n",
    "print(f\"Processing gene: {gene_name}\")\n",
    "\n",
    "os.makedirs(f\"./{gene_name}\", exist_ok=True)\n",
    "\n",
    "# Get alternative isoform features\n",
    "print(\"Getting alternative features...\")\n",
    "alt_features = alt_isoforms.get_visualization_features(gene_name)\n",
    "\n",
    "if alt_features.empty:\n",
    "    print(\"No alternative features found\")\n",
    "else:\n",
    "    print(f\"Found {len(alt_features)} alternative features\")\n",
    "    print(\"\\nAlternative Features:\")\n",
    "    print(alt_features)"
   ]
  },
  {
   "cell_type": "code",
   "execution_count": 4,
   "metadata": {},
   "outputs": [
    {
     "name": "stdout",
     "output_type": "stream",
     "text": [
      "Getting transcript information...\n",
      "Found 2 transcripts\n",
      "\n",
      "Transcript Information:\n",
      "          transcript_id chromosome     start       end strand\n",
      "3059024     NM_002047.4       chr7  30594878  30634033      +\n",
      "3059063  NM_001316772.1       chr7  30594735  30634033      +\n"
     ]
    }
   ],
   "source": [
    "print(\"Getting transcript information...\")\n",
    "transcript_info = genome.get_transcript_ids(gene_name)\n",
    "\n",
    "if transcript_info.empty:\n",
    "    print(\"No transcript info found\")\n",
    "else:\n",
    "    print(f\"Found {len(transcript_info)} transcripts\")\n",
    "    print(\"\\nTranscript Information:\")\n",
    "    print(transcript_info)"
   ]
  },
  {
   "cell_type": "code",
   "execution_count": 5,
   "metadata": {},
   "outputs": [
    {
     "name": "stdout",
     "output_type": "stream",
     "text": [
      "Fetching mutations from sources: clinvar...\n"
     ]
    },
    {
     "name": "stderr",
     "output_type": "stream",
     "text": [
      "/lab/barcheese01/mdiberna/swissisoform/src/swissisoform/mutations.py:390: FutureWarning: errors='ignore' is deprecated and will raise in a future version. Use to_numeric without passing `errors` and catch exceptions explicitly instead\n",
      "  df[col] = pd.to_numeric(df[col], errors='ignore')\n"
     ]
    },
    {
     "name": "stdout",
     "output_type": "stream",
     "text": [
      "\n",
      "Source distribution before filtering:\n",
      "source\n",
      "ClinVar    500\n",
      "Name: count, dtype: int64\n",
      "\n",
      "Source distribution after duplicate removal:\n",
      "source\n",
      "ClinVar    474\n",
      "Name: count, dtype: int64\n",
      "Found 474 mutations in truncation regions\n"
     ]
    },
    {
     "ename": "AttributeError",
     "evalue": "'DataFrame' object has no attribute 'tolist'",
     "output_type": "error",
     "traceback": [
      "\u001b[0;31m---------------------------------------------------------------------------\u001b[0m",
      "\u001b[0;31mAttributeError\u001b[0m                            Traceback (most recent call last)",
      "\u001b[0;32m/tmp/ipykernel_672576/3065320925.py\u001b[0m in \u001b[0;36m?\u001b[0;34m()\u001b[0m\n\u001b[0;32m----> 1\u001b[0;31m mutations_unfiltered = await analyze_mutations(\n\u001b[0m\u001b[1;32m      2\u001b[0m     \u001b[0mgene_name\u001b[0m\u001b[0;34m=\u001b[0m\u001b[0mgene_name\u001b[0m\u001b[0;34m,\u001b[0m\u001b[0;34m\u001b[0m\u001b[0;34m\u001b[0m\u001b[0m\n\u001b[1;32m      3\u001b[0m     \u001b[0mmutation_handler\u001b[0m\u001b[0;34m=\u001b[0m\u001b[0mmutation_handler\u001b[0m\u001b[0;34m,\u001b[0m\u001b[0;34m\u001b[0m\u001b[0;34m\u001b[0m\u001b[0m\n\u001b[1;32m      4\u001b[0m     \u001b[0malt_features\u001b[0m\u001b[0;34m=\u001b[0m\u001b[0malt_features\u001b[0m\u001b[0;34m,\u001b[0m\u001b[0;34m\u001b[0m\u001b[0;34m\u001b[0m\u001b[0m\n",
      "\u001b[0;32m/lab/barcheese01/mdiberna/swissisoform/src/swissisoform/utils.py\u001b[0m in \u001b[0;36m?\u001b[0;34m(gene_name, mutation_handler, alt_features, sources, impact_types, aggregator_csv_path)\u001b[0m\n\u001b[1;32m     46\u001b[0m     \u001b[0;31m# Create truncation regions string without nested f-string\u001b[0m\u001b[0;34m\u001b[0m\u001b[0;34m\u001b[0m\u001b[0m\n\u001b[1;32m     47\u001b[0m     truncation_regions = alt_features.apply(\n\u001b[1;32m     48\u001b[0m         \u001b[0;32mlambda\u001b[0m \u001b[0mx\u001b[0m\u001b[0;34m:\u001b[0m \u001b[0;34mf\"{x.start}-{x.end}\"\u001b[0m\u001b[0;34m,\u001b[0m\u001b[0;34m\u001b[0m\u001b[0;34m\u001b[0m\u001b[0m\n\u001b[1;32m     49\u001b[0m         \u001b[0maxis\u001b[0m\u001b[0;34m=\u001b[0m\u001b[0;36m1\u001b[0m\u001b[0;34m\u001b[0m\u001b[0;34m\u001b[0m\u001b[0m\n\u001b[0;32m---> 50\u001b[0;31m     ).tolist()\n\u001b[0m\u001b[1;32m     51\u001b[0m \u001b[0;34m\u001b[0m\u001b[0m\n\u001b[1;32m     52\u001b[0m     \u001b[0mprint\u001b[0m\u001b[0;34m(\u001b[0m\u001b[0;34m\"\\nMutation Analysis:\"\u001b[0m\u001b[0;34m)\u001b[0m\u001b[0;34m\u001b[0m\u001b[0;34m\u001b[0m\u001b[0m\n\u001b[1;32m     53\u001b[0m     \u001b[0mprint\u001b[0m\u001b[0;34m(\u001b[0m\u001b[0;34mf\"Impact types: {mutation_impacts}\"\u001b[0m\u001b[0;34m)\u001b[0m\u001b[0;34m\u001b[0m\u001b[0;34m\u001b[0m\u001b[0m\n",
      "\u001b[0;32m/lab/barcheese01/mdiberna/miniconda3/envs/swissisoform/lib/python3.10/site-packages/pandas/core/generic.py\u001b[0m in \u001b[0;36m?\u001b[0;34m(self, name)\u001b[0m\n\u001b[1;32m   6295\u001b[0m             \u001b[0;32mand\u001b[0m \u001b[0mname\u001b[0m \u001b[0;32mnot\u001b[0m \u001b[0;32min\u001b[0m \u001b[0mself\u001b[0m\u001b[0;34m.\u001b[0m\u001b[0m_accessors\u001b[0m\u001b[0;34m\u001b[0m\u001b[0;34m\u001b[0m\u001b[0m\n\u001b[1;32m   6296\u001b[0m             \u001b[0;32mand\u001b[0m \u001b[0mself\u001b[0m\u001b[0;34m.\u001b[0m\u001b[0m_info_axis\u001b[0m\u001b[0;34m.\u001b[0m\u001b[0m_can_hold_identifiers_and_holds_name\u001b[0m\u001b[0;34m(\u001b[0m\u001b[0mname\u001b[0m\u001b[0;34m)\u001b[0m\u001b[0;34m\u001b[0m\u001b[0;34m\u001b[0m\u001b[0m\n\u001b[1;32m   6297\u001b[0m         ):\n\u001b[1;32m   6298\u001b[0m             \u001b[0;32mreturn\u001b[0m \u001b[0mself\u001b[0m\u001b[0;34m[\u001b[0m\u001b[0mname\u001b[0m\u001b[0;34m]\u001b[0m\u001b[0;34m\u001b[0m\u001b[0;34m\u001b[0m\u001b[0m\n\u001b[0;32m-> 6299\u001b[0;31m         \u001b[0;32mreturn\u001b[0m \u001b[0mobject\u001b[0m\u001b[0;34m.\u001b[0m\u001b[0m__getattribute__\u001b[0m\u001b[0;34m(\u001b[0m\u001b[0mself\u001b[0m\u001b[0;34m,\u001b[0m \u001b[0mname\u001b[0m\u001b[0;34m)\u001b[0m\u001b[0;34m\u001b[0m\u001b[0;34m\u001b[0m\u001b[0m\n\u001b[0m",
      "\u001b[0;31mAttributeError\u001b[0m: 'DataFrame' object has no attribute 'tolist'"
     ]
    }
   ],
   "source": [
    "mutations_unfiltered = await analyze_mutations(\n",
    "    gene_name=gene_name, \n",
    "    mutation_handler=mutation_handler,\n",
    "    alt_features=alt_features, \n",
    "    sources=[\"clinvar\"],\n",
    ")\n",
    "\n",
    "impact_types = {\n",
    "    \"clinvar\": [\"missense variant\", \"nonsense variant\", \"frameshift variant\"],\n",
    "}\n",
    "\n",
    "mutations_filtered = await analyze_mutations(\n",
    "    gene_name=gene_name, \n",
    "    mutation_handler=mutation_handler,\n",
    "    alt_features=alt_features, \n",
    "    sources=[\"clinvar\"], \n",
    "    impact_types=impact_types,\n",
    ")\n"
   ]
  },
  {
   "cell_type": "code",
   "execution_count": 6,
   "metadata": {},
   "outputs": [
    {
     "name": "stdout",
     "output_type": "stream",
     "text": [
      "\n",
      "Visualizing transcript: NM_144772.3_2\n"
     ]
    }
   ],
   "source": [
    "visualizer = GenomeVisualizer(genome)\n",
    "\n",
    "# For each transcript, create visualizations\n",
    "for _, transcript in transcript_info.iterrows():\n",
    "    transcript_id = transcript['transcript_id']\n",
    "    print(f\"\\nVisualizing transcript: {transcript_id}\")\n",
    "    \n",
    "    # Define the directory where plots will be saved\n",
    "    output_dir = f\"./{gene_name}/\"  # Assuming you already created this directory\n",
    "    \n",
    "    # Create visualization with unfiltered mutations\n",
    "    if mutations_unfiltered is not None:\n",
    "        visualizer.visualize_transcript(\n",
    "            gene_name=gene_name,\n",
    "            transcript_id=transcript_id,\n",
    "            alt_features=alt_features,\n",
    "            mutations_df=mutations_unfiltered,\n",
    "            output_file=f'{output_dir}{transcript_id}_unfiltered.png'\n",
    "        )\n",
    "    \n",
    "    # Create visualization with filtered mutations\n",
    "    if mutations_filtered is not None:\n",
    "        visualizer.visualize_transcript(\n",
    "            gene_name=gene_name,\n",
    "            transcript_id=transcript_id,\n",
    "            alt_features=alt_features,\n",
    "            mutations_df=mutations_filtered,\n",
    "            output_file=f'{output_dir}{transcript_id}_filtered.png'\n",
    "        )\n",
    "        \n",
    "        # Create zoomed view for filtered mutations\n",
    "        visualizer.visualize_transcript_zoomed(\n",
    "            gene_name=gene_name,\n",
    "            transcript_id=transcript_id,\n",
    "            alt_features=alt_features,\n",
    "            mutations_df=mutations_filtered,\n",
    "            output_file=f'{output_dir}{transcript_id}_filtered_zoom.png',\n",
    "            padding=100\n",
    "        )"
   ]
  }
 ],
 "metadata": {
  "kernelspec": {
   "display_name": "swissisoform",
   "language": "python",
   "name": "python3"
  },
  "language_info": {
   "codemirror_mode": {
    "name": "ipython",
    "version": 3
   },
   "file_extension": ".py",
   "mimetype": "text/x-python",
   "name": "python",
   "nbconvert_exporter": "python",
   "pygments_lexer": "ipython3",
   "version": "3.10.16"
  }
 },
 "nbformat": 4,
 "nbformat_minor": 2
}
